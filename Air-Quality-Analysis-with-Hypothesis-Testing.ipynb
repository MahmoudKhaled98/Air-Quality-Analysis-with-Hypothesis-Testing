{
 "cells": [
  {
   "cell_type": "markdown",
   "id": "016b5320",
   "metadata": {
    "id": "d25eed62-5910-4d10-a976-c18c4f7d99f7"
   },
   "source": [
    "# Air Quality Analysis with Hypothesis Testing"
   ]
  },
  {
   "cell_type": "markdown",
   "id": "0db90614",
   "metadata": {
    "id": "b50579ec-09df-4bb1-ad5a-d28f4790ca16"
   },
   "source": [
    "## Introduction"
   ]
  },
  {
   "cell_type": "markdown",
   "id": "e9568416",
   "metadata": {
    "id": "6a8992ac-22d5-41db-aa09-263b464950e0"
   },
   "source": [
    "A work for an environmental think tank called Repair Our Air (ROA). ROA is formulating policy recommendations to improve the air quality in America, using the Environmental Protection Agency's Air Quality Index (AQI) to guide their decision making. An AQI value close to 0 signals \"little to no\" public health concern, while higher values are associated with increased risk to public health. \n",
    "\n",
    "I've tasked with leveraging AQI data to help them prioritize their strategy for improving air quality in America."
   ]
  },
  {
   "cell_type": "markdown",
   "id": "21c05a96",
   "metadata": {
    "id": "6e4e3b8a-b5f9-4fe1-a824-0bd3aece693c"
   },
   "source": [
    "ROA is considering the following decisions:\n",
    "\n",
    "1. ROA is considering a metropolitan-focused approach. Within California, they want to know if the mean AQI in Los Angeles County is statistically different from the rest of California.\n",
    "2. With limited resources, ROA has to choose between New York and Ohio for their next regional office. Does New York have a lower AQI than Ohio?\n",
    "3. A new policy will affect those states with a mean AQI of 10 or greater. Will Michigan be affected by this new policy?\n",
    "\n",
    "**Notes:**\n",
    "1. For the analysis, I'll default to a 5% level of significance.\n",
    "2. Throughout the project, for two-sample t-tests, I will use Welch's t-test (i.e., setting the `equal_var` parameter to `False` in `scipy.stats.ttest_ind()`). This will account for the possibly unequal variances between the two groups in the comparison."
   ]
  },
  {
   "cell_type": "markdown",
   "id": "4346c938",
   "metadata": {
    "id": "3b4dc9a5-d724-4696-a704-57fefa9d5938"
   },
   "source": [
    "## Step 1: Imports\n"
   ]
  },
  {
   "cell_type": "markdown",
   "id": "dacfb9c8",
   "metadata": {
    "id": "3d28827d-9bb3-45c7-a969-c00f6feda0e2"
   },
   "source": [
    "#### Import Packages"
   ]
  },
  {
   "cell_type": "code",
   "execution_count": 20,
   "id": "b1f1f711",
   "metadata": {
    "id": "0b3d0e1c-23b9-4491-82a5-ac1e4bd36f30"
   },
   "outputs": [],
   "source": [
    "# Import relevant packages\n",
    "\n",
    "import pandas as pd\n",
    "import numpy as np\n",
    "from scipy import stats"
   ]
  },
  {
   "cell_type": "markdown",
   "id": "1e6d39e2",
   "metadata": {
    "id": "4b765030-5f02-47d2-aa77-8ac5b2117cc1"
   },
   "source": [
    "#### Load Dataset"
   ]
  },
  {
   "cell_type": "code",
   "execution_count": 22,
   "id": "18f2d2e7",
   "metadata": {
    "id": "1ce82ed7-cf32-4028-ac77-a377e7638458",
    "tags": []
   },
   "outputs": [],
   "source": [
    "# IMPORT THE DATA.\n",
    "\n",
    "aqi = pd.read_csv('c4_epa_air_quality.csv')"
   ]
  },
  {
   "cell_type": "markdown",
   "id": "a2b74c8a",
   "metadata": {
    "id": "ZDz9XgvMy0MD"
   },
   "source": [
    "## Step 2: Data Exploration"
   ]
  },
  {
   "cell_type": "markdown",
   "id": "bc761532",
   "metadata": {
    "id": "c1ee0813-5e74-4564-8ea1-8d724700754a"
   },
   "source": [
    "### Before proceeding to the deliverables, explore your datasets.\n",
    "\n",
    "Exploring whether the research questions I were given are readily answerable with this data."
   ]
  },
  {
   "cell_type": "code",
   "execution_count": 25,
   "id": "447fa74e",
   "metadata": {
    "id": "0444122d-6fba-4051-8b09-b15392aacebf",
    "tags": []
   },
   "outputs": [
    {
     "name": "stdout",
     "output_type": "stream",
     "text": [
      "describe() To summarize AQI\n",
      "        Unnamed: 0  date_local  state_name  county_name      city_name  \\\n",
      "count   260.000000         260         260          260            260   \n",
      "unique         NaN           1          52          149            190   \n",
      "top            NaN  2018-01-01  California  Los Angeles  Not in a city   \n",
      "freq           NaN         260          66           14             21   \n",
      "mean    129.500000         NaN         NaN          NaN            NaN   \n",
      "std      75.199734         NaN         NaN          NaN            NaN   \n",
      "min       0.000000         NaN         NaN          NaN            NaN   \n",
      "25%      64.750000         NaN         NaN          NaN            NaN   \n",
      "50%     129.500000         NaN         NaN          NaN            NaN   \n",
      "75%     194.250000         NaN         NaN          NaN            NaN   \n",
      "max     259.000000         NaN         NaN          NaN            NaN   \n",
      "\n",
      "       local_site_name   parameter_name   units_of_measure  arithmetic_mean  \\\n",
      "count              257              260                260       260.000000   \n",
      "unique             253                1                  1              NaN   \n",
      "top            Kapolei  Carbon monoxide  Parts per million              NaN   \n",
      "freq                 2              260                260              NaN   \n",
      "mean               NaN              NaN                NaN         0.403169   \n",
      "std                NaN              NaN                NaN         0.317902   \n",
      "min                NaN              NaN                NaN         0.000000   \n",
      "25%                NaN              NaN                NaN         0.200000   \n",
      "50%                NaN              NaN                NaN         0.276315   \n",
      "75%                NaN              NaN                NaN         0.516009   \n",
      "max                NaN              NaN                NaN         1.921053   \n",
      "\n",
      "               aqi  \n",
      "count   260.000000  \n",
      "unique         NaN  \n",
      "top            NaN  \n",
      "freq           NaN  \n",
      "mean      6.757692  \n",
      "std       7.061707  \n",
      "min       0.000000  \n",
      "25%       2.000000  \n",
      "50%       5.000000  \n",
      "75%       9.000000  \n",
      "max      50.000000  \n",
      "values_counts() For a more thorough examination of observations by state \n",
      "state_name\n",
      "California              66\n",
      "Arizona                 14\n",
      "Ohio                    12\n",
      "Florida                 12\n",
      "Texas                   10\n",
      "New York                10\n",
      "Pennsylvania            10\n",
      "Michigan                 9\n",
      "Colorado                 9\n",
      "Minnesota                7\n",
      "New Jersey               6\n",
      "Indiana                  5\n",
      "North Carolina           4\n",
      "Massachusetts            4\n",
      "Maryland                 4\n",
      "Oklahoma                 4\n",
      "Virginia                 4\n",
      "Nevada                   4\n",
      "Connecticut              4\n",
      "Kentucky                 3\n",
      "Missouri                 3\n",
      "Wyoming                  3\n",
      "Iowa                     3\n",
      "Hawaii                   3\n",
      "Utah                     3\n",
      "Vermont                  3\n",
      "Illinois                 3\n",
      "New Hampshire            2\n",
      "District Of Columbia     2\n",
      "New Mexico               2\n",
      "Montana                  2\n",
      "Oregon                   2\n",
      "Alaska                   2\n",
      "Georgia                  2\n",
      "Washington               2\n",
      "Idaho                    2\n",
      "Nebraska                 2\n",
      "Rhode Island             2\n",
      "Tennessee                2\n",
      "Maine                    2\n",
      "South Carolina           1\n",
      "Puerto Rico              1\n",
      "Arkansas                 1\n",
      "Kansas                   1\n",
      "Mississippi              1\n",
      "Alabama                  1\n",
      "Louisiana                1\n",
      "Delaware                 1\n",
      "South Dakota             1\n",
      "West Virginia            1\n",
      "North Dakota             1\n",
      "Wisconsin                1\n",
      "Name: count, dtype: int64\n",
      "head() To show a sample of data\n"
     ]
    },
    {
     "data": {
      "text/html": [
       "<div>\n",
       "<style scoped>\n",
       "    .dataframe tbody tr th:only-of-type {\n",
       "        vertical-align: middle;\n",
       "    }\n",
       "\n",
       "    .dataframe tbody tr th {\n",
       "        vertical-align: top;\n",
       "    }\n",
       "\n",
       "    .dataframe thead th {\n",
       "        text-align: right;\n",
       "    }\n",
       "</style>\n",
       "<table border=\"1\" class=\"dataframe\">\n",
       "  <thead>\n",
       "    <tr style=\"text-align: right;\">\n",
       "      <th></th>\n",
       "      <th>Unnamed: 0</th>\n",
       "      <th>date_local</th>\n",
       "      <th>state_name</th>\n",
       "      <th>county_name</th>\n",
       "      <th>city_name</th>\n",
       "      <th>local_site_name</th>\n",
       "      <th>parameter_name</th>\n",
       "      <th>units_of_measure</th>\n",
       "      <th>arithmetic_mean</th>\n",
       "      <th>aqi</th>\n",
       "    </tr>\n",
       "  </thead>\n",
       "  <tbody>\n",
       "    <tr>\n",
       "      <th>0</th>\n",
       "      <td>0</td>\n",
       "      <td>2018-01-01</td>\n",
       "      <td>Arizona</td>\n",
       "      <td>Maricopa</td>\n",
       "      <td>Buckeye</td>\n",
       "      <td>BUCKEYE</td>\n",
       "      <td>Carbon monoxide</td>\n",
       "      <td>Parts per million</td>\n",
       "      <td>0.473684</td>\n",
       "      <td>7</td>\n",
       "    </tr>\n",
       "    <tr>\n",
       "      <th>1</th>\n",
       "      <td>1</td>\n",
       "      <td>2018-01-01</td>\n",
       "      <td>Ohio</td>\n",
       "      <td>Belmont</td>\n",
       "      <td>Shadyside</td>\n",
       "      <td>Shadyside</td>\n",
       "      <td>Carbon monoxide</td>\n",
       "      <td>Parts per million</td>\n",
       "      <td>0.263158</td>\n",
       "      <td>5</td>\n",
       "    </tr>\n",
       "    <tr>\n",
       "      <th>2</th>\n",
       "      <td>2</td>\n",
       "      <td>2018-01-01</td>\n",
       "      <td>Wyoming</td>\n",
       "      <td>Teton</td>\n",
       "      <td>Not in a city</td>\n",
       "      <td>Yellowstone National Park - Old Faithful Snow ...</td>\n",
       "      <td>Carbon monoxide</td>\n",
       "      <td>Parts per million</td>\n",
       "      <td>0.111111</td>\n",
       "      <td>2</td>\n",
       "    </tr>\n",
       "    <tr>\n",
       "      <th>3</th>\n",
       "      <td>3</td>\n",
       "      <td>2018-01-01</td>\n",
       "      <td>Pennsylvania</td>\n",
       "      <td>Philadelphia</td>\n",
       "      <td>Philadelphia</td>\n",
       "      <td>North East Waste (NEW)</td>\n",
       "      <td>Carbon monoxide</td>\n",
       "      <td>Parts per million</td>\n",
       "      <td>0.300000</td>\n",
       "      <td>3</td>\n",
       "    </tr>\n",
       "    <tr>\n",
       "      <th>4</th>\n",
       "      <td>4</td>\n",
       "      <td>2018-01-01</td>\n",
       "      <td>Iowa</td>\n",
       "      <td>Polk</td>\n",
       "      <td>Des Moines</td>\n",
       "      <td>CARPENTER</td>\n",
       "      <td>Carbon monoxide</td>\n",
       "      <td>Parts per million</td>\n",
       "      <td>0.215789</td>\n",
       "      <td>3</td>\n",
       "    </tr>\n",
       "  </tbody>\n",
       "</table>\n",
       "</div>"
      ],
      "text/plain": [
       "   Unnamed: 0  date_local    state_name   county_name      city_name  \\\n",
       "0           0  2018-01-01       Arizona      Maricopa        Buckeye   \n",
       "1           1  2018-01-01          Ohio       Belmont      Shadyside   \n",
       "2           2  2018-01-01       Wyoming         Teton  Not in a city   \n",
       "3           3  2018-01-01  Pennsylvania  Philadelphia   Philadelphia   \n",
       "4           4  2018-01-01          Iowa          Polk     Des Moines   \n",
       "\n",
       "                                     local_site_name   parameter_name  \\\n",
       "0                                            BUCKEYE  Carbon monoxide   \n",
       "1                                          Shadyside  Carbon monoxide   \n",
       "2  Yellowstone National Park - Old Faithful Snow ...  Carbon monoxide   \n",
       "3                             North East Waste (NEW)  Carbon monoxide   \n",
       "4                                          CARPENTER  Carbon monoxide   \n",
       "\n",
       "    units_of_measure  arithmetic_mean  aqi  \n",
       "0  Parts per million         0.473684    7  \n",
       "1  Parts per million         0.263158    5  \n",
       "2  Parts per million         0.111111    2  \n",
       "3  Parts per million         0.300000    3  \n",
       "4  Parts per million         0.215789    3  "
      ]
     },
     "execution_count": 25,
     "metadata": {},
     "output_type": "execute_result"
    }
   ],
   "source": [
    "# Explore The dataframe `aqi`:\n",
    "\n",
    "\n",
    "\n",
    "print(\"describe() To summarize AQI\")\n",
    "print(aqi.describe(include='all'))\n",
    "\n",
    "print(\"values_counts() For a more thorough examination of observations by state \")\n",
    "print(aqi['state_name'].value_counts())\n",
    "\n",
    "print(\"head() To show a sample of data\")\n",
    "aqi.head()"
   ]
  },
  {
   "cell_type": "markdown",
   "id": "277ea7ce",
   "metadata": {
    "id": "4a29c065-73b4-409f-a57c-b49c740f3d1d"
   },
   "source": [
    "#### **Observations**"
   ]
  },
  {
   "cell_type": "markdown",
   "id": "368a8445",
   "metadata": {
    "id": "yxdjmP4WJ4wH"
   },
   "source": [
    "\n",
    "- We have county-level data for the first hypothesis.\n",
    "- Ohio and New York both have a higher number of observations to work with in this dataset."
   ]
  },
  {
   "cell_type": "markdown",
   "id": "bf555c27",
   "metadata": {
    "id": "fd48d0f0-3f90-455e-87a1-0da43fcac202"
   },
   "source": [
    "## Step 3. Statistical Tests\n",
    "\n",
    "Recalling the following steps for conducting hypothesis testing:\n",
    "\n",
    "1. Formulate the null hypothesis and the alternative hypothesis.<br>\n",
    "2. Set the significance level.<br>\n",
    "3. Determine the appropriate test procedure.<br>\n",
    "4. Compute the p-value.<br>\n",
    "5. Draw your conclusion."
   ]
  },
  {
   "cell_type": "markdown",
   "id": "acf54e23",
   "metadata": {
    "id": "d572fbab-b82e-4898-96d5-93a8f20c3094"
   },
   "source": [
    "### Hypothesis 1: ROA is considering a metropolitan-focused approach. Within California, they want to know if the mean AQI in Los Angeles County is statistically different from the rest of California.\n",
    "\n",
    "Before proceeding with the analysis, it will be helpful to subset the data for the comparison."
   ]
  },
  {
   "cell_type": "code",
   "execution_count": 31,
   "id": "94ef960d",
   "metadata": {
    "id": "c8e42529-af00-4699-96b4-bd0f8989014a"
   },
   "outputs": [],
   "source": [
    "# Create dataframes for each sample being compared in the test\n",
    "\n",
    "california_los_angeles = aqi[aqi['county_name']=='Los Angeles']\n",
    "california_other = aqi[(aqi['state_name']=='California') & (aqi['county_name']!='Los Angeles')]"
   ]
  },
  {
   "cell_type": "markdown",
   "id": "7535e0be",
   "metadata": {
    "id": "7dff76cf-3a49-49d2-9660-0b5ec17d5f0a"
   },
   "source": [
    "#### Formulate the hypothesis:"
   ]
  },
  {
   "cell_type": "markdown",
   "id": "724ebd82",
   "metadata": {
    "id": "fdddef66-6207-4cc0-853c-0b578674bbfc"
   },
   "source": [
    "**Formulate the null and alternative hypotheses:**\n",
    "\n",
    "*   $H_0$: There is no difference in the mean AQI between Los Angeles County and the rest of California.\n",
    "*   $H_A$: There is a difference in the mean AQI between Los Angeles County and the rest of California.\n"
   ]
  },
  {
   "cell_type": "markdown",
   "id": "1c5452a6",
   "metadata": {
    "id": "5dac3136-16bf-45d2-a560-05fe5361f5cb"
   },
   "source": [
    "#### Set the significance level:"
   ]
  },
  {
   "cell_type": "code",
   "execution_count": 35,
   "id": "b37cc257",
   "metadata": {
    "id": "5ef36549-7ccb-4547-bf04-d23b166c65d4"
   },
   "outputs": [],
   "source": [
    "# For this analysis, the significance level is 5%\n",
    "\n",
    "significance_level=0.05"
   ]
  },
  {
   "cell_type": "markdown",
   "id": "5e0a0942",
   "metadata": {
    "id": "4ebb679d-188d-4ca8-a886-6edb9ba1301e"
   },
   "source": [
    "#### Determining the appropriate test procedure:"
   ]
  },
  {
   "cell_type": "markdown",
   "id": "943996c5",
   "metadata": {
    "id": "ab717428-91e5-4f88-b6d5-0a8c3034e010"
   },
   "source": [
    "Comparing the sample means between two independent samples. Therefore, I will utilize a **two-sample  t-test**."
   ]
  },
  {
   "cell_type": "markdown",
   "id": "c35cc80a",
   "metadata": {
    "id": "e862eb4d-a170-4126-9373-a527bf5659da"
   },
   "source": [
    "#### Compute the P-value"
   ]
  },
  {
   "cell_type": "code",
   "execution_count": 44,
   "id": "032a196f",
   "metadata": {
    "id": "83ef0d80-48ec-4a5a-8acd-0fab137243c3",
    "tags": []
   },
   "outputs": [
    {
     "data": {
      "text/plain": [
       "TtestResult(statistic=2.1107010796372014, pvalue=0.049839056842410995, df=17.08246830361151)"
      ]
     },
     "execution_count": 44,
     "metadata": {},
     "output_type": "execute_result"
    }
   ],
   "source": [
    "# Compute the p-value \n",
    "\n",
    "stats.ttest_ind(a=california_los_angeles['aqi'],b=california_other['aqi'],equal_var=False)"
   ]
  },
  {
   "cell_type": "markdown",
   "id": "7c62c758",
   "metadata": {
    "id": "KUEKceuOJ1S2"
   },
   "source": [
    "- The p-value for my hypothesis 1 is 0.04983, so we will reject the null hypothesis.\n",
    "\n",
    "- Therefore, a metropolitan strategy may make sense in this case."
   ]
  },
  {
   "cell_type": "markdown",
   "id": "59468360",
   "metadata": {
    "id": "94a88155-3328-4c7e-8e60-67a2ba9d7967"
   },
   "source": [
    "### Hypothesis 2: With limited resources, ROA has to choose between New York and Ohio for their next regional office. Does New York have a lower AQI than Ohio?\n",
    "\n",
    "Before proceeding with the analysis, it will be helpful to subset the data for the comparison."
   ]
  },
  {
   "cell_type": "code",
   "execution_count": 49,
   "id": "99d55067",
   "metadata": {
    "id": "f39b7d83-9fbf-4bba-90c2-c99f903badd8"
   },
   "outputs": [],
   "source": [
    "# Create dataframes for each sample being compared in the test\n",
    "\n",
    "new_york=aqi[aqi['state_name']=='New York']\n",
    "ohio = aqi[aqi['state_name']=='Ohio']"
   ]
  },
  {
   "cell_type": "markdown",
   "id": "f515cc6a",
   "metadata": {
    "id": "7478185b-a351-4c7c-b1b8-6eaa1a26d2ed"
   },
   "source": [
    "#### Formulate the hypothesis:"
   ]
  },
  {
   "cell_type": "markdown",
   "id": "6ca8ecc8",
   "metadata": {
    "id": "029b0f9c-0d0c-475f-b745-643a313e2b79"
   },
   "source": [
    "**Formulate the null and alternative hypotheses:**\n",
    "\n",
    "*   $H_0$: The mean AQI of New York is greater than or equal to that of Ohio.\n",
    "*   $H_A$: The mean AQI of New York is **below** that of Ohio.\n"
   ]
  },
  {
   "cell_type": "markdown",
   "id": "4b6abd43",
   "metadata": {
    "id": "b12559f5-bd57-4664-be80-7208ca8818b4"
   },
   "source": [
    "#### Significance Level (remains at 5%)"
   ]
  },
  {
   "cell_type": "markdown",
   "id": "0158debf",
   "metadata": {
    "id": "2b57fcf8-6f9d-4dae-ba0d-4af9a24d991d"
   },
   "source": [
    "#### Determining the appropriate test procedure:"
   ]
  },
  {
   "cell_type": "markdown",
   "id": "a8bac299",
   "metadata": {
    "id": "8ac7075f-1342-4522-9c49-1f43574d05f8"
   },
   "source": [
    "Comparing the sample means between two independent samples in one direction. Therefore, I will utilize a **two-sample  t-test**."
   ]
  },
  {
   "cell_type": "markdown",
   "id": "70656676",
   "metadata": {
    "id": "77f03fc8-0663-48b2-af4b-2936b35027e7"
   },
   "source": [
    "#### Compute the P-value"
   ]
  },
  {
   "cell_type": "code",
   "execution_count": 21,
   "id": "3e7e51cd",
   "metadata": {
    "id": "e495500f-c3d9-4cf2-ad1d-4687640a01b4",
    "tags": []
   },
   "outputs": [
    {
     "data": {
      "text/plain": [
       "Ttest_indResult(statistic=-2.025951038880333, pvalue=0.030446502691934697)"
      ]
     },
     "execution_count": 21,
     "metadata": {},
     "output_type": "execute_result"
    }
   ],
   "source": [
    "# Compute the p-value\n",
    "\n",
    "stats.ttest_ind(a=new_york['aqi'],b=ohio['aqi'],alternative='less',equal_var=False)"
   ]
  },
  {
   "cell_type": "markdown",
   "id": "beba549d",
   "metadata": {
    "id": "dFDxoQ9aJxz3"
   },
   "source": [
    "- With a p-value (0.030) of less than 0.05 (as the significance level is 5%) and a t-statistic < 0 (-2.036), **reject the null hypothesis in favor of the alternative hypothesis**.\n",
    "\n",
    "- Therefore, I can conclude at the 5% significance level that New York has a lower mean AQI than Ohio."
   ]
  },
  {
   "cell_type": "markdown",
   "id": "f135091a",
   "metadata": {
    "id": "4308fdf1-3080-4697-a0b4-4c7c59c49b9b"
   },
   "source": [
    "###  Hypothesis 3: A new policy will affect those states with a mean AQI of 10 or greater. Will Michigan be affected by this new policy?\n",
    "\n",
    "Before proceeding with the analysis, it will be helpful to subset the data for the comparison."
   ]
  },
  {
   "cell_type": "code",
   "execution_count": 22,
   "id": "bd6ced8d",
   "metadata": {
    "id": "559c43b4-ccb3-4a05-91d4-8f4aaee4d8b7"
   },
   "outputs": [],
   "source": [
    "# Create dataframes for each sample being compared in the test\n",
    "\n",
    "michigan = aqi[aqi['state_name']=='Michigan']"
   ]
  },
  {
   "cell_type": "markdown",
   "id": "589de6d8",
   "metadata": {
    "id": "6886d303-82ca-42c5-980c-3893868241eb"
   },
   "source": [
    "#### Formulate the hypothesis:"
   ]
  },
  {
   "cell_type": "markdown",
   "id": "d21a983c",
   "metadata": {
    "id": "b25225ee-02d7-4d42-8746-9e68598b7bf6"
   },
   "source": [
    "**Formulate the null and alternative hypotheses:**\n",
    "\n",
    "*   $H_0$: The mean AQI of Michigan is less than or equal to 10.\n",
    "*   $H_A$: The mean AQI of Michigan is greater than 10.\n"
   ]
  },
  {
   "cell_type": "markdown",
   "id": "ce85aae3",
   "metadata": {
    "id": "32581125-a9ef-4b17-b8d5-0e1085d4c746"
   },
   "source": [
    "#### Significance Level (remains at 5%)"
   ]
  },
  {
   "cell_type": "markdown",
   "id": "a642aa8d",
   "metadata": {
    "id": "915f8cd0-d06b-44ab-81f6-0effa96fae09"
   },
   "source": [
    "#### Determining the appropriate test procedure:"
   ]
  },
  {
   "cell_type": "markdown",
   "id": "b0d318fb",
   "metadata": {
    "id": "6753e251-d152-48c9-a5ad-bd46b62636ee"
   },
   "source": [
    "Comparing one sample mean relative to a particular value in one direction. Therefore, I will utilize a **one-sample  t-test**. "
   ]
  },
  {
   "cell_type": "markdown",
   "id": "7b3518b5",
   "metadata": {
    "id": "95443324-76bb-4473-b07b-dcc0c9be7251"
   },
   "source": [
    "#### Compute the P-value"
   ]
  },
  {
   "cell_type": "code",
   "execution_count": 23,
   "id": "1f5fc769",
   "metadata": {
    "id": "8b86c9f5-284a-4ed7-b2d4-2b531e0092f9",
    "tags": []
   },
   "outputs": [
    {
     "data": {
      "text/plain": [
       "Ttest_1sampResult(statistic=-1.7395913343286131, pvalue=0.9399405193140109)"
      ]
     },
     "execution_count": 23,
     "metadata": {},
     "output_type": "execute_result"
    }
   ],
   "source": [
    "# Compute the p-value\n",
    "\n",
    "stats.ttest_1samp(michigan['aqi'],10,alternative='greater')"
   ]
  },
  {
   "cell_type": "markdown",
   "id": "bf659079",
   "metadata": {
    "id": "Li8YaXdqJuBF"
   },
   "source": [
    "- With a p-value (0.940) being greater than 0.05 (as the significance level is 5%) and a t-statistic < 0 (-1.74), **fail to reject the null hypothesis**.\n",
    "\n",
    "- Therefore, I cannot conclude at the 5% significance level that Michigan's mean AQI is greater than 10. This implies that Michigan would most likely not be affected by the new policy."
   ]
  },
  {
   "cell_type": "markdown",
   "id": "88b60fc0",
   "metadata": {
    "id": "oS3JWcpU127z"
   },
   "source": [
    "## Step 4. Results and Evaluation\n",
    "\n",
    "Now that I've completed the statistical tests, I can consider my hypotheses and the results gathered."
   ]
  },
  {
   "cell_type": "markdown",
   "id": "b18d5042",
   "metadata": {
    "id": "q2p_8BmC16V-"
   },
   "source": [
    "#### **Did the results show that the AQI in Los Angeles County was statistically different from the rest of California?**"
   ]
  },
  {
   "cell_type": "markdown",
   "id": "1b6bff05",
   "metadata": {
    "id": "US0JnLp3JrfX"
   },
   "source": [
    "Yes, the results indicated that the AQI in Los Angeles County was in fact different from the rest of California."
   ]
  },
  {
   "cell_type": "markdown",
   "id": "59ae6304",
   "metadata": {
    "id": "G7-YawsW68Yd"
   },
   "source": [
    "#### **Did New York or Ohio have a lower AQI?**"
   ]
  },
  {
   "cell_type": "markdown",
   "id": "e560c2d5",
   "metadata": {
    "id": "zzSBoJwMJpgG"
   },
   "source": [
    "Using a 5% significance level, I can conclude that New York has a lower AQI than Ohio based on the results."
   ]
  },
  {
   "cell_type": "markdown",
   "id": "dbe5b113",
   "metadata": {
    "id": "ppAmh9nD7HkZ"
   },
   "source": [
    "#### **Will Michigan be affected by the new policy impacting states with a mean AQI of 10 or greater?**\n",
    "\n"
   ]
  },
  {
   "cell_type": "markdown",
   "id": "aafebaea",
   "metadata": {
    "id": "1nfqgTngJnLV"
   },
   "source": [
    "Based on the tests, I would fail to reject the null hypothesis, meaning I can't conclude that the mean AQI is greater than 10. Thus, it is unlikely that Michigan would be affected by the new policy."
   ]
  },
  {
   "cell_type": "markdown",
   "id": "d73188ab",
   "metadata": {
    "id": "e2bf2c48-c712-4310-a83e-96a13edc4da1"
   },
   "source": [
    "# Conclusion\n",
    "\n",
    "**Key Insights:**\n",
    "\n",
    "- Statistical Significance of AQI Levels: The analysis revealed that the mean AQI for Los Angeles is statistically different from the mean AQI across the rest of California at a 5% significance level, indicating significant air quality concerns specific to Los Angeles.\n",
    "\n",
    "- Comparative Analysis Between States: The findings demonstrated that New York has a lower mean AQI compared to Ohio, suggesting better air quality in New York, which may inform public health strategies and resource allocation.\n",
    "\n",
    "- Limitations in Conclusions: The analysis was unable to establish, at the 5% significance level, that Michigan's mean AQI exceeds a value of 10. This uncertainty highlights a need for further investigation and potentially larger sample sizes to draw more definitive conclusions.\n",
    "\n",
    "- Importance of Statistical Context: Presenting the null and alternative hypotheses for each test, along with the p-values and types of tests conducted, provides stakeholders with essential context to understand the implications of the findings and their significance in air quality management."
   ]
  },
  {
   "cell_type": "code",
   "execution_count": 75,
   "id": "811cb862-97b6-43bd-a283-f5c2fb70780b",
   "metadata": {},
   "outputs": [
    {
     "name": "stdout",
     "output_type": "stream",
     "text": [
      "Markdown Cell 1:\n",
      "# Activity: Explore hypothesis testing\n",
      "\n",
      "Markdown Cell 2:\n",
      "## Introduction\n",
      "\n",
      "Markdown Cell 3:\n",
      "My work for an environmental think tank called Repair Our Air (ROA). ROA is formulating policy recommendations to improve the air quality in America, using the Environmental Protection Agency's Air Quality Index (AQI) to guide their decision making. An AQI value close to 0 signals \"little to no\" public health concern, while higher values are associated with increased risk to public health. \n",
      "\n",
      "They've tasked me with leveraging AQI data to help them prioritize their strategy for improving air quality in America.\n",
      "\n",
      "Markdown Cell 4:\n",
      "ROA is considering the following decisions. For each, construct a hypothesis test and an accompanying visualization, using my results of that test to make a recommendation:\n",
      "\n",
      "1. ROA is considering a metropolitan-focused approach. Within California, they want to know if the mean AQI in Los Angeles County is statistically different from the rest of California.\n",
      "2. With limited resources, ROA has to choose between New York and Ohio for their next regional office. Does New York have a lower AQI than Ohio?\n",
      "3. A new policy will affect those states with a mean AQI of 10 or greater. Will Michigan be affected by this new policy?\n",
      "\n",
      "**Notes:**\n",
      "1. For my analysis, I'll default to a 5% level of significance.\n",
      "2. Throughout the project, for two-sample t-tests, I will use Welch's t-test (i.e., setting the `equal_var` parameter to `False` in `scipy.stats.ttest_ind()`). This will account for the possibly unequal variances between the two groups in the comparison.\n",
      "\n",
      "Markdown Cell 5:\n",
      "## Step 1: Imports\n",
      "\n",
      "\n",
      "Markdown Cell 6:\n",
      "#### Import Packages\n",
      "\n",
      "Markdown Cell 7:\n",
      "#### Load Dataset\n",
      "\n",
      "Markdown Cell 8:\n",
      "## Step 2: Data Exploration\n",
      "\n",
      "Markdown Cell 9:\n",
      "### Before proceeding to the deliverables, explore your datasets.\n",
      "\n",
      "Exploring whether the research questions I were given are readily answerable with this data.\n",
      "\n",
      "Markdown Cell 10:\n",
      "#### **Observations**\n",
      "\n",
      "Markdown Cell 11:\n",
      "\n",
      "- We have county-level data for the first hypothesis.\n",
      "- Ohio and New York both have a higher number of observations to work with in this dataset.\n",
      "\n",
      "Markdown Cell 12:\n",
      "## Step 3. Statistical Tests\n",
      "\n",
      "Recalling the following steps for conducting hypothesis testing:\n",
      "\n",
      "1. Formulate the null hypothesis and the alternative hypothesis.<br>\n",
      "2. Set the significance level.<br>\n",
      "3. Determine the appropriate test procedure.<br>\n",
      "4. Compute the p-value.<br>\n",
      "5. Draw your conclusion.\n",
      "\n",
      "Markdown Cell 13:\n",
      "### Hypothesis 1: ROA is considering a metropolitan-focused approach. Within California, they want to know if the mean AQI in Los Angeles County is statistically different from the rest of California.\n",
      "\n",
      "Before proceeding with the analysis, it will be helpful to subset the data for the comparison.\n",
      "\n",
      "Markdown Cell 14:\n",
      "#### Formulate the hypothesis:\n",
      "\n",
      "Markdown Cell 15:\n",
      "**Formulate the null and alternative hypotheses:**\n",
      "\n",
      "*   $H_0$: There is no difference in the mean AQI between Los Angeles County and the rest of California.\n",
      "*   $H_A$: There is a difference in the mean AQI between Los Angeles County and the rest of California.\n",
      "\n",
      "\n",
      "Markdown Cell 16:\n",
      "#### Set the significance level:\n",
      "\n",
      "Markdown Cell 17:\n",
      "#### Determining the appropriate test procedure:\n",
      "\n",
      "Markdown Cell 18:\n",
      "Comparing the sample means between two independent samples. Therefore, I will utilize a **two-sample  t-test**.\n",
      "\n",
      "Markdown Cell 19:\n",
      "#### Compute the P-value\n",
      "\n",
      "Markdown Cell 20:\n",
      "- The p-value for my hypothesis 1 is 0.04983, so we will reject the null hypothesis.\n",
      "\n",
      "- Therefore, a metropolitan strategy may make sense in this case.\n",
      "\n",
      "Markdown Cell 21:\n",
      "### Hypothesis 2: With limited resources, ROA has to choose between New York and Ohio for their next regional office. Does New York have a lower AQI than Ohio?\n",
      "\n",
      "Before proceeding with the analysis, it will be helpful to subset the data for the comparison.\n",
      "\n",
      "Markdown Cell 22:\n",
      "#### Formulate the hypothesis:\n",
      "\n",
      "Markdown Cell 23:\n",
      "**Formulate the null and alternative hypotheses:**\n",
      "\n",
      "*   $H_0$: The mean AQI of New York is greater than or equal to that of Ohio.\n",
      "*   $H_A$: The mean AQI of New York is **below** that of Ohio.\n",
      "\n",
      "\n",
      "Markdown Cell 24:\n",
      "#### Significance Level (remains at 5%)\n",
      "\n",
      "Markdown Cell 25:\n",
      "#### Determining the appropriate test procedure:\n",
      "\n",
      "Markdown Cell 26:\n",
      "Comparing the sample means between two independent samples in one direction. Therefore, I will utilize a **two-sample  t-test**.\n",
      "\n",
      "Markdown Cell 27:\n",
      "#### Compute the P-value\n",
      "\n",
      "Markdown Cell 28:\n",
      "- With a p-value (0.030) of less than 0.05 (as the significance level is 5%) and a t-statistic < 0 (-2.036), **reject the null hypothesis in favor of the alternative hypothesis**.\n",
      "\n",
      "- Therefore, I can conclude at the 5% significance level that New York has a lower mean AQI than Ohio.\n",
      "\n",
      "Markdown Cell 29:\n",
      "###  Hypothesis 3: A new policy will affect those states with a mean AQI of 10 or greater. Will Michigan be affected by this new policy?\n",
      "\n",
      "Before proceeding with the analysis, it will be helpful to subset the data for the comparison.\n",
      "\n",
      "Markdown Cell 30:\n",
      "#### Formulate the hypothesis:\n",
      "\n",
      "Markdown Cell 31:\n",
      "**Formulate the null and alternative hypotheses:**\n",
      "\n",
      "*   $H_0$: The mean AQI of Michigan is less than or equal to 10.\n",
      "*   $H_A$: The mean AQI of Michigan is greater than 10.\n",
      "\n",
      "\n",
      "Markdown Cell 32:\n",
      "#### Significance Level (remains at 5%)\n",
      "\n",
      "Markdown Cell 33:\n",
      "#### Determining the appropriate test procedure:\n",
      "\n",
      "Markdown Cell 34:\n",
      "Comparing one sample mean relative to a particular value in one direction. Therefore, I will utilize a **one-sample  t-test**. \n",
      "\n",
      "Markdown Cell 35:\n",
      "#### Compute the P-value\n",
      "\n",
      "Markdown Cell 36:\n",
      "- With a p-value (0.940) being greater than 0.05 (as the significance level is 5%) and a t-statistic < 0 (-1.74), **fail to reject the null hypothesis**.\n",
      "\n",
      "- Therefore, I cannot conclude at the 5% significance level that Michigan's mean AQI is greater than 10. This implies that Michigan would most likely not be affected by the new policy.\n",
      "\n",
      "Markdown Cell 37:\n",
      "## Step 4. Results and Evaluation\n",
      "\n",
      "Now that I've completed the statistical tests, I can consider my hypotheses and the results gathered.\n",
      "\n",
      "Markdown Cell 38:\n",
      "#### **Did the results show that the AQI in Los Angeles County was statistically different from the rest of California?**\n",
      "\n",
      "Markdown Cell 39:\n",
      "Yes, the results indicated that the AQI in Los Angeles County was in fact different from the rest of California.\n",
      "\n",
      "Markdown Cell 40:\n",
      "#### **Did New York or Ohio have a lower AQI?**\n",
      "\n",
      "Markdown Cell 41:\n",
      "Using a 5% significance level, I can conclude that New York has a lower AQI than Ohio based on the results.\n",
      "\n",
      "Markdown Cell 42:\n",
      "#### **Will Michigan be affected by the new policy impacting states with a mean AQI of 10 or greater?**\n",
      "\n",
      "\n",
      "\n",
      "Markdown Cell 43:\n",
      "Based on the tests, I would fail to reject the null hypothesis, meaning I can't conclude that the mean AQI is greater than 10. Thus, it is unlikely that Michigan would be affected by the new policy.\n",
      "\n",
      "Markdown Cell 44:\n",
      "# Conclusion\n",
      "\n",
      "**Key Insights:**\n",
      "\n",
      "- Statistical Significance of AQI Levels: The analysis revealed that the mean AQI for Los Angeles is statistically different from the mean AQI across the rest of California at a 5% significance level, indicating significant air quality concerns specific to Los Angeles.\n",
      "\n",
      "- Comparative Analysis Between States: The findings demonstrated that New York has a lower mean AQI compared to Ohio, suggesting better air quality in New York, which may inform public health strategies and resource allocation.\n",
      "\n",
      "- Limitations in Conclusions: The analysis was unable to establish, at the 5% significance level, that Michigan's mean AQI exceeds a value of 10. This uncertainty highlights a need for further investigation and potentially larger sample sizes to draw more definitive conclusions.\n",
      "\n",
      "- Importance of Statistical Context: Presenting the null and alternative hypotheses for each test, along with the p-values and types of tests conducted, provides stakeholders with essential context to understand the implications of the findings and their significance in air quality management.\n",
      "\n"
     ]
    }
   ],
   "source": [
    "import json\n",
    "\n",
    "# Load the notebook file\n",
    "with open(\"Activity_Explore hypothesis testing.ipynb\", \"r\", encoding=\"utf-8\") as f:\n",
    "    notebook = json.load(f)\n",
    "\n",
    "# Iterate over all cells and extract markdown cells\n",
    "markdown_cells = []\n",
    "for cell in notebook['cells']:\n",
    "    if cell['cell_type'] == 'markdown':\n",
    "        markdown_cells.append(''.join(cell['source']))\n",
    "\n",
    "# Print or copy all markdown cells\n",
    "for i, md in enumerate(markdown_cells):\n",
    "    print(f\"Markdown Cell {i+1}:\\n{md}\\n\")\n"
   ]
  },
  {
   "cell_type": "code",
   "execution_count": null,
   "id": "d4854ae5-4d78-4bcc-aa6a-4ce94fd4762e",
   "metadata": {},
   "outputs": [],
   "source": []
  }
 ],
 "metadata": {
  "colab": {
   "collapsed_sections": [
    "b12559f5-bd57-4664-be80-7208ca8818b4",
    "32581125-a9ef-4b17-b8d5-0e1085d4c746"
   ],
   "provenance": []
  },
  "kernelspec": {
   "display_name": "Python 3 (ipykernel)",
   "language": "python",
   "name": "python3"
  },
  "language_info": {
   "codemirror_mode": {
    "name": "ipython",
    "version": 3
   },
   "file_extension": ".py",
   "mimetype": "text/x-python",
   "name": "python",
   "nbconvert_exporter": "python",
   "pygments_lexer": "ipython3",
   "version": "3.12.2"
  }
 },
 "nbformat": 4,
 "nbformat_minor": 5
}
